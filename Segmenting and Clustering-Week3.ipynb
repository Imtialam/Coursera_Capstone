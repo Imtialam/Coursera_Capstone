{
    "nbformat_minor": 1, 
    "cells": [
        {
            "source": "# <center>Segmenting and Clustering </center>\n## <center>Neighborhoods in Toronto</center>", 
            "cell_type": "markdown", 
            "metadata": {}
        }, 
        {
            "source": "## Code to scrape Wikipedia page", 
            "cell_type": "markdown", 
            "metadata": {}
        }, 
        {
            "execution_count": 402, 
            "cell_type": "code", 
            "metadata": {}, 
            "outputs": [], 
            "source": "# import required libraries\nimport requests\nimport lxml.html as lh\nimport pandas as pd"
        }, 
        {
            "execution_count": 403, 
            "cell_type": "code", 
            "metadata": {}, 
            "outputs": [
                {
                    "execution_count": 403, 
                    "metadata": {}, 
                    "data": {
                        "text/plain": "<Response [200]>"
                    }, 
                    "output_type": "execute_result"
                }
            ], 
            "source": "url='https://en.wikipedia.org/wiki/List_of_postal_codes_of_Canada:_M'\npage = requests.get(url)\npage # request is successful if responce is 200"
        }, 
        {
            "source": "Store the contents of the website under doc and parse data that are stored between tr  of HTML", 
            "cell_type": "markdown", 
            "metadata": {}
        }, 
        {
            "execution_count": 404, 
            "cell_type": "code", 
            "metadata": {}, 
            "outputs": [
                {
                    "execution_count": 404, 
                    "metadata": {}, 
                    "data": {
                        "text/plain": "[3, 3, 3, 3, 3, 3, 3, 3, 3, 3, 3, 3]"
                    }, 
                    "output_type": "execute_result"
                }
            ], 
            "source": "doc = lh.fromstring(page.content)\ntr_elements = doc.xpath('//tr')\n\n#Check the length of the first 12 rows. All rows should have 3 columns\n[len(T) for T in tr_elements[:12]]"
        }, 
        {
            "source": "## Parse Table Header\nNext, let\u2019s parse the first row as our header.", 
            "cell_type": "markdown", 
            "metadata": {}
        }, 
        {
            "execution_count": 405, 
            "cell_type": "code", 
            "metadata": {}, 
            "outputs": [
                {
                    "output_type": "stream", 
                    "name": "stdout", 
                    "text": "1:\"Postcode\"\n2:\"Borough\"\n3:\"Neighbourhood\n\"\n"
                }
            ], 
            "source": "tr_elements = doc.xpath('//tr')\n#Create empty list\ncol=[]\ni=0\n#For each row, store each first element (header) and an empty list\nfor t in tr_elements[0]:\n    i+=1\n    name=t.text_content()\n    print('%d:\"%s\"'%(i,name))\n    col.append((name,[]))"
        }, 
        {
            "source": "## Creating Pandas DataFrame\nEach header is appended to a tuple along with an empty list.", 
            "cell_type": "markdown", 
            "metadata": {}
        }, 
        {
            "execution_count": 406, 
            "cell_type": "code", 
            "metadata": {}, 
            "outputs": [], 
            "source": "#Since out first row is the header, data is stored on the second row onwards\nfor j in range(1,len(tr_elements)):\n    #T is our j'th row\n    T=tr_elements[j]\n    \n    #If row is not of size 10, the //tr data is not from our table \n    if len(T)!=3:\n        break\n    \n    #i is the index of our column\n    i=0\n    \n    #Iterate through each element of the row\n    for t in T.iterchildren():\n        data=t.text_content() \n        #Check if row is empty\n        if i>0:\n        #Convert any numerical value to integers\n            try:\n                data=int(data)\n            except:\n                pass\n        #Append the data to the empty list of the i'th column\n        col[i][1].append(data)\n        #Increment i for the next column\n        i+=1"
        }, 
        {
            "source": "## Create the DataFrame", 
            "cell_type": "markdown", 
            "metadata": {}
        }, 
        {
            "execution_count": 407, 
            "cell_type": "code", 
            "metadata": {}, 
            "outputs": [], 
            "source": "Dict={title:column for (title,column) in col}\ndf=pd.DataFrame(Dict)"
        }, 
        {
            "execution_count": 408, 
            "cell_type": "code", 
            "metadata": {}, 
            "outputs": [
                {
                    "execution_count": 408, 
                    "metadata": {}, 
                    "data": {
                        "text/html": "<div>\n<style scoped>\n    .dataframe tbody tr th:only-of-type {\n        vertical-align: middle;\n    }\n\n    .dataframe tbody tr th {\n        vertical-align: top;\n    }\n\n    .dataframe thead th {\n        text-align: right;\n    }\n</style>\n<table border=\"1\" class=\"dataframe\">\n  <thead>\n    <tr style=\"text-align: right;\">\n      <th></th>\n      <th>Postcode</th>\n      <th>Borough</th>\n      <th>Neighbourhood</th>\n    </tr>\n  </thead>\n  <tbody>\n    <tr>\n      <th>0</th>\n      <td>M1A</td>\n      <td>Not assigned</td>\n      <td>Not assigned\\n</td>\n    </tr>\n    <tr>\n      <th>1</th>\n      <td>M2A</td>\n      <td>Not assigned</td>\n      <td>Not assigned\\n</td>\n    </tr>\n    <tr>\n      <th>2</th>\n      <td>M3A</td>\n      <td>North York</td>\n      <td>Parkwoods\\n</td>\n    </tr>\n    <tr>\n      <th>3</th>\n      <td>M4A</td>\n      <td>North York</td>\n      <td>Victoria Village\\n</td>\n    </tr>\n    <tr>\n      <th>4</th>\n      <td>M5A</td>\n      <td>Downtown Toronto</td>\n      <td>Harbourfront\\n</td>\n    </tr>\n  </tbody>\n</table>\n</div>", 
                        "text/plain": "  Postcode           Borough     Neighbourhood\\n\n0      M1A      Not assigned      Not assigned\\n\n1      M2A      Not assigned      Not assigned\\n\n2      M3A        North York         Parkwoods\\n\n3      M4A        North York  Victoria Village\\n\n4      M5A  Downtown Toronto      Harbourfront\\n"
                    }, 
                    "output_type": "execute_result"
                }
            ], 
            "source": "df.head()"
        }, 
        {
            "source": "Ignore cells with a borough that is Not assigned.", 
            "cell_type": "markdown", 
            "metadata": {}
        }, 
        {
            "execution_count": 409, 
            "cell_type": "code", 
            "metadata": {}, 
            "outputs": [
                {
                    "execution_count": 409, 
                    "metadata": {}, 
                    "data": {
                        "text/html": "<div>\n<style scoped>\n    .dataframe tbody tr th:only-of-type {\n        vertical-align: middle;\n    }\n\n    .dataframe tbody tr th {\n        vertical-align: top;\n    }\n\n    .dataframe thead th {\n        text-align: right;\n    }\n</style>\n<table border=\"1\" class=\"dataframe\">\n  <thead>\n    <tr style=\"text-align: right;\">\n      <th></th>\n      <th>Postcode</th>\n      <th>Borough</th>\n      <th>Neighbourhood</th>\n    </tr>\n  </thead>\n  <tbody>\n    <tr>\n      <th>2</th>\n      <td>M3A</td>\n      <td>North York</td>\n      <td>Parkwoods\\n</td>\n    </tr>\n    <tr>\n      <th>3</th>\n      <td>M4A</td>\n      <td>North York</td>\n      <td>Victoria Village\\n</td>\n    </tr>\n    <tr>\n      <th>4</th>\n      <td>M5A</td>\n      <td>Downtown Toronto</td>\n      <td>Harbourfront\\n</td>\n    </tr>\n    <tr>\n      <th>5</th>\n      <td>M5A</td>\n      <td>Downtown Toronto</td>\n      <td>Regent Park\\n</td>\n    </tr>\n    <tr>\n      <th>6</th>\n      <td>M6A</td>\n      <td>North York</td>\n      <td>Lawrence Heights\\n</td>\n    </tr>\n  </tbody>\n</table>\n</div>", 
                        "text/plain": "  Postcode           Borough     Neighbourhood\\n\n2      M3A        North York         Parkwoods\\n\n3      M4A        North York  Victoria Village\\n\n4      M5A  Downtown Toronto      Harbourfront\\n\n5      M5A  Downtown Toronto       Regent Park\\n\n6      M6A        North York  Lawrence Heights\\n"
                    }, 
                    "output_type": "execute_result"
                }
            ], 
            "source": "df = df[df.Borough != 'Not assigned']\ndf.head()"
        }, 
        {
            "execution_count": 410, 
            "cell_type": "code", 
            "metadata": {}, 
            "outputs": [
                {
                    "execution_count": 410, 
                    "metadata": {}, 
                    "data": {
                        "text/plain": "(211, 3)"
                    }, 
                    "output_type": "execute_result"
                }
            ], 
            "source": "df.shape"
        }, 
        {
            "source": "While scrapping the page, name of columns had \\n (new line character) so clean the column names of dataframe", 
            "cell_type": "markdown", 
            "metadata": {}
        }, 
        {
            "execution_count": 411, 
            "cell_type": "code", 
            "metadata": {}, 
            "outputs": [], 
            "source": "df.columns = ['Postcode', 'Borough', 'Neighborhood']"
        }, 
        {
            "source": "Group By columns where Postcode and Borough values are same. Join value of Neighbourhood column with ,", 
            "cell_type": "markdown", 
            "metadata": {}
        }, 
        {
            "execution_count": 412, 
            "cell_type": "code", 
            "metadata": {}, 
            "outputs": [
                {
                    "execution_count": 412, 
                    "metadata": {}, 
                    "data": {
                        "text/html": "<div>\n<style scoped>\n    .dataframe tbody tr th:only-of-type {\n        vertical-align: middle;\n    }\n\n    .dataframe tbody tr th {\n        vertical-align: top;\n    }\n\n    .dataframe thead th {\n        text-align: right;\n    }\n</style>\n<table border=\"1\" class=\"dataframe\">\n  <thead>\n    <tr style=\"text-align: right;\">\n      <th></th>\n      <th>Postcode</th>\n      <th>Borough</th>\n      <th>Neighborhood</th>\n    </tr>\n  </thead>\n  <tbody>\n    <tr>\n      <th>2</th>\n      <td>M3A</td>\n      <td>North York</td>\n      <td>Parkwoods\\n</td>\n    </tr>\n    <tr>\n      <th>3</th>\n      <td>M4A</td>\n      <td>North York</td>\n      <td>Victoria Village\\n</td>\n    </tr>\n    <tr>\n      <th>4</th>\n      <td>M5A</td>\n      <td>Downtown Toronto</td>\n      <td>Harbourfront\\n</td>\n    </tr>\n    <tr>\n      <th>5</th>\n      <td>M5A</td>\n      <td>Downtown Toronto</td>\n      <td>Regent Park\\n</td>\n    </tr>\n    <tr>\n      <th>6</th>\n      <td>M6A</td>\n      <td>North York</td>\n      <td>Lawrence Heights\\n</td>\n    </tr>\n  </tbody>\n</table>\n</div>", 
                        "text/plain": "  Postcode           Borough        Neighborhood\n2      M3A        North York         Parkwoods\\n\n3      M4A        North York  Victoria Village\\n\n4      M5A  Downtown Toronto      Harbourfront\\n\n5      M5A  Downtown Toronto       Regent Park\\n\n6      M6A        North York  Lawrence Heights\\n"
                    }, 
                    "output_type": "execute_result"
                }
            ], 
            "source": "df.head()"
        }, 
        {
            "execution_count": 413, 
            "cell_type": "code", 
            "metadata": {}, 
            "outputs": [], 
            "source": "df = df['Neighborhood'].groupby([df.Postcode, df.Borough]).apply(lambda Neighborhood: ''.join(Neighborhood.to_string(index=False))).str.replace('(\\\\n)', '').reset_index()"
        }, 
        {
            "execution_count": 414, 
            "cell_type": "code", 
            "metadata": {}, 
            "outputs": [
                {
                    "execution_count": 414, 
                    "metadata": {}, 
                    "data": {
                        "text/html": "<div>\n<style scoped>\n    .dataframe tbody tr th:only-of-type {\n        vertical-align: middle;\n    }\n\n    .dataframe tbody tr th {\n        vertical-align: top;\n    }\n\n    .dataframe thead th {\n        text-align: right;\n    }\n</style>\n<table border=\"1\" class=\"dataframe\">\n  <thead>\n    <tr style=\"text-align: right;\">\n      <th></th>\n      <th>Postcode</th>\n      <th>Borough</th>\n      <th>Neighborhood</th>\n    </tr>\n  </thead>\n  <tbody>\n    <tr>\n      <th>0</th>\n      <td>M1B</td>\n      <td>Scarborough</td>\n      <td>Rouge\\n Malvern\\n</td>\n    </tr>\n    <tr>\n      <th>1</th>\n      <td>M1C</td>\n      <td>Scarborough</td>\n      <td>Highland Creek\\n     Rouge Hill\\n     Port Un...</td>\n    </tr>\n    <tr>\n      <th>2</th>\n      <td>M1E</td>\n      <td>Scarborough</td>\n      <td>Guildwood\\n Morningside\\n   West Hill\\n</td>\n    </tr>\n    <tr>\n      <th>3</th>\n      <td>M1G</td>\n      <td>Scarborough</td>\n      <td>Woburn\\n</td>\n    </tr>\n    <tr>\n      <th>4</th>\n      <td>M1H</td>\n      <td>Scarborough</td>\n      <td>Cedarbrae\\n</td>\n    </tr>\n  </tbody>\n</table>\n</div>", 
                        "text/plain": "  Postcode      Borough                                       Neighborhood\n0      M1B  Scarborough                                  Rouge\\n Malvern\\n\n1      M1C  Scarborough   Highland Creek\\n     Rouge Hill\\n     Port Un...\n2      M1E  Scarborough            Guildwood\\n Morningside\\n   West Hill\\n\n3      M1G  Scarborough                                           Woburn\\n\n4      M1H  Scarborough                                        Cedarbrae\\n"
                    }, 
                    "output_type": "execute_result"
                }
            ], 
            "source": "df.head()"
        }, 
        {
            "execution_count": 415, 
            "cell_type": "code", 
            "metadata": {}, 
            "outputs": [], 
            "source": "df = df[df.Neighborhood != 'Not assigned']"
        }, 
        {
            "execution_count": 416, 
            "cell_type": "code", 
            "metadata": {}, 
            "outputs": [
                {
                    "execution_count": 416, 
                    "metadata": {}, 
                    "data": {
                        "text/plain": "(103, 3)"
                    }, 
                    "output_type": "execute_result"
                }
            ], 
            "source": "df.shape"
        }, 
        {
            "source": "### Load Geospatial Cordinates csv file", 
            "cell_type": "markdown", 
            "metadata": {}
        }, 
        {
            "execution_count": 417, 
            "cell_type": "code", 
            "metadata": {}, 
            "outputs": [], 
            "source": "# The code was removed by Watson Studio for sharing."
        }, 
        {
            "execution_count": 418, 
            "cell_type": "code", 
            "metadata": {}, 
            "outputs": [
                {
                    "execution_count": 418, 
                    "metadata": {}, 
                    "data": {
                        "text/html": "<div>\n<style scoped>\n    .dataframe tbody tr th:only-of-type {\n        vertical-align: middle;\n    }\n\n    .dataframe tbody tr th {\n        vertical-align: top;\n    }\n\n    .dataframe thead th {\n        text-align: right;\n    }\n</style>\n<table border=\"1\" class=\"dataframe\">\n  <thead>\n    <tr style=\"text-align: right;\">\n      <th></th>\n      <th>Postalcode</th>\n      <th>Latitude</th>\n      <th>Longitude</th>\n    </tr>\n  </thead>\n  <tbody>\n    <tr>\n      <th>0</th>\n      <td>M1B</td>\n      <td>43.806686</td>\n      <td>-79.194353</td>\n    </tr>\n    <tr>\n      <th>1</th>\n      <td>M1C</td>\n      <td>43.784535</td>\n      <td>-79.160497</td>\n    </tr>\n    <tr>\n      <th>2</th>\n      <td>M1E</td>\n      <td>43.763573</td>\n      <td>-79.188711</td>\n    </tr>\n    <tr>\n      <th>3</th>\n      <td>M1G</td>\n      <td>43.770992</td>\n      <td>-79.216917</td>\n    </tr>\n    <tr>\n      <th>4</th>\n      <td>M1H</td>\n      <td>43.773136</td>\n      <td>-79.239476</td>\n    </tr>\n  </tbody>\n</table>\n</div>", 
                        "text/plain": "  Postalcode   Latitude  Longitude\n0        M1B  43.806686 -79.194353\n1        M1C  43.784535 -79.160497\n2        M1E  43.763573 -79.188711\n3        M1G  43.770992 -79.216917\n4        M1H  43.773136 -79.239476"
                    }, 
                    "output_type": "execute_result"
                }
            ], 
            "source": "body = client_cff8eea1fdbd477e887a9835d1a75d2c.get_object(Bucket='capstoneproject-donotdelete-pr-4fbchxk5srpuo8',Key='Geospatial_Coordinates.csv')['Body']\n# add missing __iter__ method, so pandas accepts body as file-like object\nif not hasattr(body, \"__iter__\"): body.__iter__ = types.MethodType( __iter__, body )\n\ndf_geo = pd.read_csv(body)\ndf_geo.columns = ['Postalcode','Latitude','Longitude']\ndf_geo.head()"
        }, 
        {
            "source": "<b><u>Merge Neighborhood data with location data</u><b>", 
            "cell_type": "markdown", 
            "metadata": {}
        }, 
        {
            "execution_count": 419, 
            "cell_type": "code", 
            "metadata": {}, 
            "outputs": [], 
            "source": "neighborhoods = pd.merge(left=df,right=df_geo, left_on='Postcode', right_on='Postalcode')"
        }, 
        {
            "execution_count": 420, 
            "cell_type": "code", 
            "metadata": {}, 
            "outputs": [
                {
                    "execution_count": 420, 
                    "metadata": {}, 
                    "data": {
                        "text/html": "<div>\n<style scoped>\n    .dataframe tbody tr th:only-of-type {\n        vertical-align: middle;\n    }\n\n    .dataframe tbody tr th {\n        vertical-align: top;\n    }\n\n    .dataframe thead th {\n        text-align: right;\n    }\n</style>\n<table border=\"1\" class=\"dataframe\">\n  <thead>\n    <tr style=\"text-align: right;\">\n      <th></th>\n      <th>Postcode</th>\n      <th>Borough</th>\n      <th>Neighborhood</th>\n      <th>Postalcode</th>\n      <th>Latitude</th>\n      <th>Longitude</th>\n    </tr>\n  </thead>\n  <tbody>\n    <tr>\n      <th>0</th>\n      <td>M1B</td>\n      <td>Scarborough</td>\n      <td>Rouge\\n Malvern\\n</td>\n      <td>M1B</td>\n      <td>43.806686</td>\n      <td>-79.194353</td>\n    </tr>\n    <tr>\n      <th>1</th>\n      <td>M1C</td>\n      <td>Scarborough</td>\n      <td>Highland Creek\\n     Rouge Hill\\n     Port Un...</td>\n      <td>M1C</td>\n      <td>43.784535</td>\n      <td>-79.160497</td>\n    </tr>\n    <tr>\n      <th>2</th>\n      <td>M1E</td>\n      <td>Scarborough</td>\n      <td>Guildwood\\n Morningside\\n   West Hill\\n</td>\n      <td>M1E</td>\n      <td>43.763573</td>\n      <td>-79.188711</td>\n    </tr>\n    <tr>\n      <th>3</th>\n      <td>M1G</td>\n      <td>Scarborough</td>\n      <td>Woburn\\n</td>\n      <td>M1G</td>\n      <td>43.770992</td>\n      <td>-79.216917</td>\n    </tr>\n    <tr>\n      <th>4</th>\n      <td>M1H</td>\n      <td>Scarborough</td>\n      <td>Cedarbrae\\n</td>\n      <td>M1H</td>\n      <td>43.773136</td>\n      <td>-79.239476</td>\n    </tr>\n  </tbody>\n</table>\n</div>", 
                        "text/plain": "  Postcode      Borough                                       Neighborhood  \\\n0      M1B  Scarborough                                  Rouge\\n Malvern\\n   \n1      M1C  Scarborough   Highland Creek\\n     Rouge Hill\\n     Port Un...   \n2      M1E  Scarborough            Guildwood\\n Morningside\\n   West Hill\\n   \n3      M1G  Scarborough                                           Woburn\\n   \n4      M1H  Scarborough                                        Cedarbrae\\n   \n\n  Postalcode   Latitude  Longitude  \n0        M1B  43.806686 -79.194353  \n1        M1C  43.784535 -79.160497  \n2        M1E  43.763573 -79.188711  \n3        M1G  43.770992 -79.216917  \n4        M1H  43.773136 -79.239476  "
                    }, 
                    "output_type": "execute_result"
                }
            ], 
            "source": "neighborhoods.head()"
        }, 
        {
            "source": "<b><u>Remove duplicate PostalCode column</u></b>", 
            "cell_type": "markdown", 
            "metadata": {}
        }, 
        {
            "execution_count": 421, 
            "cell_type": "code", 
            "metadata": {}, 
            "outputs": [
                {
                    "execution_count": 421, 
                    "metadata": {}, 
                    "data": {
                        "text/html": "<div>\n<style scoped>\n    .dataframe tbody tr th:only-of-type {\n        vertical-align: middle;\n    }\n\n    .dataframe tbody tr th {\n        vertical-align: top;\n    }\n\n    .dataframe thead th {\n        text-align: right;\n    }\n</style>\n<table border=\"1\" class=\"dataframe\">\n  <thead>\n    <tr style=\"text-align: right;\">\n      <th></th>\n      <th>Postcode</th>\n      <th>Borough</th>\n      <th>Neighborhood</th>\n      <th>Latitude</th>\n      <th>Longitude</th>\n    </tr>\n  </thead>\n  <tbody>\n    <tr>\n      <th>0</th>\n      <td>M1B</td>\n      <td>Scarborough</td>\n      <td>Rouge\\n Malvern\\n</td>\n      <td>43.806686</td>\n      <td>-79.194353</td>\n    </tr>\n    <tr>\n      <th>1</th>\n      <td>M1C</td>\n      <td>Scarborough</td>\n      <td>Highland Creek\\n     Rouge Hill\\n     Port Un...</td>\n      <td>43.784535</td>\n      <td>-79.160497</td>\n    </tr>\n    <tr>\n      <th>2</th>\n      <td>M1E</td>\n      <td>Scarborough</td>\n      <td>Guildwood\\n Morningside\\n   West Hill\\n</td>\n      <td>43.763573</td>\n      <td>-79.188711</td>\n    </tr>\n    <tr>\n      <th>3</th>\n      <td>M1G</td>\n      <td>Scarborough</td>\n      <td>Woburn\\n</td>\n      <td>43.770992</td>\n      <td>-79.216917</td>\n    </tr>\n    <tr>\n      <th>4</th>\n      <td>M1H</td>\n      <td>Scarborough</td>\n      <td>Cedarbrae\\n</td>\n      <td>43.773136</td>\n      <td>-79.239476</td>\n    </tr>\n  </tbody>\n</table>\n</div>", 
                        "text/plain": "  Postcode      Borough                                       Neighborhood  \\\n0      M1B  Scarborough                                  Rouge\\n Malvern\\n   \n1      M1C  Scarborough   Highland Creek\\n     Rouge Hill\\n     Port Un...   \n2      M1E  Scarborough            Guildwood\\n Morningside\\n   West Hill\\n   \n3      M1G  Scarborough                                           Woburn\\n   \n4      M1H  Scarborough                                        Cedarbrae\\n   \n\n    Latitude  Longitude  \n0  43.806686 -79.194353  \n1  43.784535 -79.160497  \n2  43.763573 -79.188711  \n3  43.770992 -79.216917  \n4  43.773136 -79.239476  "
                    }, 
                    "output_type": "execute_result"
                }
            ], 
            "source": "neighborhoods = neighborhoods.drop('Postalcode', 1)\nneighborhoods.head()"
        }, 
        {
            "execution_count": 422, 
            "cell_type": "code", 
            "metadata": {}, 
            "outputs": [
                {
                    "execution_count": 422, 
                    "metadata": {}, 
                    "data": {
                        "text/html": "<div>\n<style scoped>\n    .dataframe tbody tr th:only-of-type {\n        vertical-align: middle;\n    }\n\n    .dataframe tbody tr th {\n        vertical-align: top;\n    }\n\n    .dataframe thead th {\n        text-align: right;\n    }\n</style>\n<table border=\"1\" class=\"dataframe\">\n  <thead>\n    <tr style=\"text-align: right;\">\n      <th></th>\n      <th>Postcode</th>\n      <th>Borough</th>\n      <th>Neighborhood</th>\n      <th>Latitude</th>\n      <th>Longitude</th>\n    </tr>\n  </thead>\n  <tbody>\n    <tr>\n      <th>0</th>\n      <td>M1B</td>\n      <td>Scarborough</td>\n      <td>Rouge\\n Malvern\\n</td>\n      <td>43.806686</td>\n      <td>-79.194353</td>\n    </tr>\n    <tr>\n      <th>1</th>\n      <td>M1C</td>\n      <td>Scarborough</td>\n      <td>Highland Creek\\n     Rouge Hill\\n     Port Un...</td>\n      <td>43.784535</td>\n      <td>-79.160497</td>\n    </tr>\n    <tr>\n      <th>2</th>\n      <td>M1E</td>\n      <td>Scarborough</td>\n      <td>Guildwood\\n Morningside\\n   West Hill\\n</td>\n      <td>43.763573</td>\n      <td>-79.188711</td>\n    </tr>\n    <tr>\n      <th>3</th>\n      <td>M1G</td>\n      <td>Scarborough</td>\n      <td>Woburn\\n</td>\n      <td>43.770992</td>\n      <td>-79.216917</td>\n    </tr>\n    <tr>\n      <th>4</th>\n      <td>M1H</td>\n      <td>Scarborough</td>\n      <td>Cedarbrae\\n</td>\n      <td>43.773136</td>\n      <td>-79.239476</td>\n    </tr>\n  </tbody>\n</table>\n</div>", 
                        "text/plain": "  Postcode      Borough                                       Neighborhood  \\\n0      M1B  Scarborough                                  Rouge\\n Malvern\\n   \n1      M1C  Scarborough   Highland Creek\\n     Rouge Hill\\n     Port Un...   \n2      M1E  Scarborough            Guildwood\\n Morningside\\n   West Hill\\n   \n3      M1G  Scarborough                                           Woburn\\n   \n4      M1H  Scarborough                                        Cedarbrae\\n   \n\n    Latitude  Longitude  \n0  43.806686 -79.194353  \n1  43.784535 -79.160497  \n2  43.763573 -79.188711  \n3  43.770992 -79.216917  \n4  43.773136 -79.239476  "
                    }, 
                    "output_type": "execute_result"
                }
            ], 
            "source": "neighborhoods.head()"
        }, 
        {
            "execution_count": 423, 
            "cell_type": "code", 
            "metadata": {}, 
            "outputs": [], 
            "source": "#!conda install -c conda-forge folium=0.5.0 --yes"
        }, 
        {
            "execution_count": 424, 
            "cell_type": "code", 
            "metadata": {}, 
            "outputs": [], 
            "source": "#!conda install -c conda-forge geopy --yes # uncomment this line if you haven't completed the Foursquare API lab\n"
        }, 
        {
            "source": " ", 
            "cell_type": "markdown", 
            "metadata": {}
        }, 
        {
            "source": " ", 
            "cell_type": "markdown", 
            "metadata": {}
        }, 
        {
            "source": " ", 
            "cell_type": "markdown", 
            "metadata": {}
        }, 
        {
            "source": "# Clustering Toronoto Neighborhood data", 
            "cell_type": "markdown", 
            "metadata": {}
        }, 
        {
            "execution_count": 425, 
            "cell_type": "code", 
            "metadata": {
                "scrolled": true
            }, 
            "outputs": [], 
            "source": "import folium \nfrom geopy.geocoders import Nominatim\nimport numpy as np\nimport matplotlib.cm as cm\nimport matplotlib.colors as colors\n\n# import k-means from clustering stage\nfrom sklearn.cluster import KMeans"
        }, 
        {
            "execution_count": 426, 
            "cell_type": "code", 
            "metadata": {}, 
            "outputs": [
                {
                    "execution_count": 426, 
                    "metadata": {}, 
                    "data": {
                        "text/html": "<div>\n<style scoped>\n    .dataframe tbody tr th:only-of-type {\n        vertical-align: middle;\n    }\n\n    .dataframe tbody tr th {\n        vertical-align: top;\n    }\n\n    .dataframe thead th {\n        text-align: right;\n    }\n</style>\n<table border=\"1\" class=\"dataframe\">\n  <thead>\n    <tr style=\"text-align: right;\">\n      <th></th>\n      <th>Postcode</th>\n      <th>Borough</th>\n      <th>Neighborhood</th>\n      <th>Latitude</th>\n      <th>Longitude</th>\n    </tr>\n  </thead>\n  <tbody>\n    <tr>\n      <th>37</th>\n      <td>M4E</td>\n      <td>East Toronto</td>\n      <td>The Beaches\\n</td>\n      <td>43.676357</td>\n      <td>-79.293031</td>\n    </tr>\n    <tr>\n      <th>41</th>\n      <td>M4K</td>\n      <td>East Toronto</td>\n      <td>The Danforth West\\n         Riverdale\\n</td>\n      <td>43.679557</td>\n      <td>-79.352188</td>\n    </tr>\n    <tr>\n      <th>42</th>\n      <td>M4L</td>\n      <td>East Toronto</td>\n      <td>The Beaches West\\n     India Bazaar\\n</td>\n      <td>43.668999</td>\n      <td>-79.315572</td>\n    </tr>\n    <tr>\n      <th>43</th>\n      <td>M4M</td>\n      <td>East Toronto</td>\n      <td>Studio District\\n</td>\n      <td>43.659526</td>\n      <td>-79.340923</td>\n    </tr>\n    <tr>\n      <th>44</th>\n      <td>M4N</td>\n      <td>Central Toronto</td>\n      <td>Lawrence Park\\n</td>\n      <td>43.728020</td>\n      <td>-79.388790</td>\n    </tr>\n  </tbody>\n</table>\n</div>", 
                        "text/plain": "   Postcode          Borough                              Neighborhood  \\\n37      M4E     East Toronto                             The Beaches\\n   \n41      M4K     East Toronto   The Danforth West\\n         Riverdale\\n   \n42      M4L     East Toronto     The Beaches West\\n     India Bazaar\\n   \n43      M4M     East Toronto                         Studio District\\n   \n44      M4N  Central Toronto                           Lawrence Park\\n   \n\n     Latitude  Longitude  \n37  43.676357 -79.293031  \n41  43.679557 -79.352188  \n42  43.668999 -79.315572  \n43  43.659526 -79.340923  \n44  43.728020 -79.388790  "
                    }, 
                    "output_type": "execute_result"
                }
            ], 
            "source": "toronto_data = neighborhoods[neighborhoods.Borough.str.contains('Toronto')]\ntoronto_data.head()"
        }, 
        {
            "execution_count": 427, 
            "cell_type": "code", 
            "metadata": {}, 
            "outputs": [], 
            "source": "#Find Toronto Location"
        }, 
        {
            "execution_count": 428, 
            "cell_type": "code", 
            "metadata": {}, 
            "outputs": [
                {
                    "output_type": "stream", 
                    "name": "stdout", 
                    "text": "The geograpical coordinate of Manhattan are 43.653963, -79.387207.\n"
                }
            ], 
            "source": "address = 'Toronto, CA'\n\ngeolocator = Nominatim(user_agent=\"CN_explorer\")\nlocation = geolocator.geocode(address)\nlatitude = location.latitude\nlongitude = location.longitude\nprint('The geograpical coordinate of Manhattan are {}, {}.'.format(latitude, longitude))"
        }, 
        {
            "execution_count": 429, 
            "cell_type": "code", 
            "metadata": {
                "scrolled": true
            }, 
            "outputs": [
                {
                    "execution_count": 429, 
                    "metadata": {}, 
                    "data": {
                        "text/html": "<div style=\"width:100%;\"><div style=\"position:relative;width:100%;height:0;padding-bottom:60%;\"><iframe src=\"data:text/html;charset=utf-8;base64,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\" style=\"position:absolute;width:100%;height:100%;left:0;top:0;border:none !important;\" allowfullscreen webkitallowfullscreen mozallowfullscreen></iframe></div></div>", 
                        "text/plain": "<folium.folium.Map at 0x7fc114078320>"
                    }, 
                    "output_type": "execute_result"
                }
            ], 
            "source": "# create map of Manhattan using latitude and longitude values\nmap_toronto = folium.Map(location=[latitude, longitude], zoom_start=11)\n\n# add markers to map\nfor lat, lng, label in zip(toronto_data['Latitude'], toronto_data['Longitude'], toronto_data['Neighborhood']):\n    label = folium.Popup(label, parse_html=True)\n    folium.CircleMarker(\n        [lat, lng],\n        radius=5,\n        popup=label,\n        color='blue',\n        fill=True,\n        fill_color='#3186cc',\n        fill_opacity=0.7,\n        parse_html=False).add_to(map_toronto)  \n    \nmap_toronto"
        }, 
        {
            "execution_count": 430, 
            "cell_type": "code", 
            "metadata": {}, 
            "outputs": [], 
            "source": "## "
        }, 
        {
            "execution_count": 431, 
            "cell_type": "code", 
            "metadata": {
                "scrolled": true
            }, 
            "outputs": [], 
            "source": "# The code was removed by Watson Studio for sharing."
        }, 
        {
            "execution_count": 432, 
            "cell_type": "code", 
            "metadata": {}, 
            "outputs": [], 
            "source": "def getNearbyVenues(names, latitudes, longitudes, radius=500):\n    \n    venues_list=[]\n    for name, lat, lng in zip(names, latitudes, longitudes):\n        print(name)\n            \n        # create the API request URL\n        url = 'https://api.foursquare.com/v2/venues/explore?&client_id={}&client_secret={}&v={}&ll={},{}&radius={}&limit={}'.format(\n            CLIENT_ID, \n            CLIENT_SECRET, \n            VERSION, \n            lat, \n            lng, \n            radius, \n            LIMIT)\n            \n        # make the GET request\n        results = requests.get(url).json()[\"response\"]['groups'][0]['items']\n        \n        # return only relevant information for each nearby venue\n        venues_list.append([(\n            name, \n            lat, \n            lng, \n            v['venue']['name'], \n            v['venue']['location']['lat'], \n            v['venue']['location']['lng'],  \n            v['venue']['categories'][0]['name']) for v in results])\n\n    nearby_venues = pd.DataFrame([item for venue_list in venues_list for item in venue_list])\n    nearby_venues.columns = ['Neighborhood', \n                  'Neighborhood Latitude', \n                  'Neighborhood Longitude', \n                  'Venue', \n                  'Venue Latitude', \n                  'Venue Longitude', \n                  'Venue Category']\n    \n    return(nearby_venues)"
        }, 
        {
            "source": "Get Venues of all Neighborhood", 
            "cell_type": "markdown", 
            "metadata": {}
        }, 
        {
            "execution_count": null, 
            "cell_type": "code", 
            "metadata": {
                "scrolled": true
            }, 
            "outputs": [
                {
                    "output_type": "stream", 
                    "name": "stdout", 
                    "text": " The Beaches\\n\n The Danforth West\\n         Riverdale\\n\n The Beaches West\\n     India Bazaar\\n\n Studio District\\n\n Lawrence Park\\n\n Davisville North\\n\n North Toronto West\\n\n Davisville\\n\n      Moore Park\\n Summerhill East\\n\n       Deer Park\\n  Forest Hill SE\\n       Rathnelly\\n      South Hill\\n Summerhill West\\n\n Rosedale\\n\n    Cabbagetown\\n St. James Town\\n\n Church and Wellesley\\n\n Harbourfront\\n  Regent Park\\n\n         Ryerson\\n Garden District\\n\n St. James Town\\n\n Berczy Park\\n\n Central Bay Street\\n\n Adelaide\\n     King\\n Richmond\\n\n Harbourfront East\\n   Toronto Islands\\n     Union Station\\n\n         Design Exchange\\n Toronto Dominion Centre\\n\n Commerce Court\\n Victoria Hotel\\n\n Roselawn\\n\n Forest Hill North\\n  Forest Hill West\\n\n     The Annex\\n North Midtown\\n     Yorkville\\n\n               Harbord\\n University of Toronto\\n\n         Chinatown\\n       Grange Park\\n Kensington Market\\n\n          CN Tower\\n     Bathurst Quay\\n    Island airport\\n Harbourfront West\\n  King and Spadina\\n     Railway Lands\\n     South Niagara\\n\n Stn A PO Boxes 25 The Esplanade\\n\n First Canadian Place\\n     Underground city\\n\n Christie\\n\n"
                }
            ], 
            "source": "toronto_venues = getNearbyVenues(names=toronto_data['Neighborhood'],\n                                   latitudes=toronto_data['Latitude'],\n                                   longitudes=toronto_data['Longitude']\n                                  )"
        }, 
        {
            "execution_count": null, 
            "cell_type": "code", 
            "metadata": {
                "scrolled": false
            }, 
            "outputs": [], 
            "source": "# one hot encoding\ntoronto_onehot = pd.get_dummies(toronto_venues[['Venue Category']], prefix=\"\", prefix_sep=\"\")\n\n\n\n# move neighborhood column to the first column\n\ntoronto_onehot.drop(labels=['Neighborhood'], axis=1,inplace = True)\ntoronto_onehot.insert(0, 'Neighborhood', toronto_venues['Neighborhood'])\n"
        }, 
        {
            "execution_count": null, 
            "cell_type": "code", 
            "metadata": {}, 
            "outputs": [], 
            "source": "toronto_onehot.shape"
        }, 
        {
            "execution_count": null, 
            "cell_type": "code", 
            "metadata": {}, 
            "outputs": [], 
            "source": "toronto_grouped = toronto_onehot.groupby('Neighborhood').mean().reset_index()\n"
        }, 
        {
            "execution_count": null, 
            "cell_type": "code", 
            "metadata": {}, 
            "outputs": [], 
            "source": "toronto_grouped.shape"
        }, 
        {
            "execution_count": null, 
            "cell_type": "code", 
            "metadata": {}, 
            "outputs": [], 
            "source": "def return_most_common_venues(row, num_top_venues):\n    row_categories = row.iloc[1:]\n    row_categories_sorted = row_categories.sort_values(ascending=False)\n    \n    return row_categories_sorted.index.values[0:num_top_venues]"
        }, 
        {
            "execution_count": null, 
            "cell_type": "code", 
            "metadata": {}, 
            "outputs": [], 
            "source": "num_top_venues = 10\n\nindicators = ['st', 'nd', 'rd']\n\n# create columns according to number of top venues\ncolumns = ['Neighborhood']\nfor ind in np.arange(num_top_venues):\n    try:\n        columns.append('{}{} Most Common Venue'.format(ind+1, indicators[ind]))\n    except:\n        columns.append('{}th Most Common Venue'.format(ind+1))\n\n# create a new dataframe\nneighborhoods_venues_sorted = pd.DataFrame(columns=columns)\nneighborhoods_venues_sorted['Neighborhood'] = toronto_grouped['Neighborhood']\n\nfor ind in np.arange(toronto_grouped.shape[0]):\n    neighborhoods_venues_sorted.iloc[ind, 1:] = return_most_common_venues(toronto_grouped.iloc[ind, :], num_top_venues)\n\nneighborhoods_venues_sorted.head()"
        }, 
        {
            "source": "## Clustering of Neighborhood using K-means method", 
            "cell_type": "markdown", 
            "metadata": {}
        }, 
        {
            "execution_count": null, 
            "cell_type": "code", 
            "metadata": {}, 
            "outputs": [], 
            "source": "# set number of clusters\nkclusters = 5\n\ntoronto_grouped_clustering = toronto_grouped.drop('Neighborhood', 1)\n\n# run k-means clustering\nkmeans = KMeans(n_clusters=kclusters, random_state=0).fit(toronto_grouped_clustering)\n\n# check cluster labels generated for each row in the dataframe\nkmeans.labels_[0:10] "
        }, 
        {
            "execution_count": null, 
            "cell_type": "code", 
            "metadata": {}, 
            "outputs": [], 
            "source": "# add clustering labels\nneighborhoods_venues_sorted.insert(0, 'Cluster Labels', kmeans.labels_)\n\ntoronto_merged = toronto_data\n\n# merge toronto_grouped with toronto_data to add latitude/longitude for each neighborhood\ntoronto_merged = toronto_merged.join(neighborhoods_venues_sorted.set_index('Neighborhood'), on='Neighborhood')\n\ntoronto_merged.head() # check the last columns!"
        }, 
        {
            "source": "Display Venues clustering", 
            "cell_type": "markdown", 
            "metadata": {}
        }, 
        {
            "execution_count": null, 
            "cell_type": "code", 
            "metadata": {
                "scrolled": true
            }, 
            "outputs": [], 
            "source": "# create map\nmap_clusters = folium.Map(location=[latitude, longitude], zoom_start=11)\n\n# set color scheme for the clusters\nx = np.arange(kclusters)\nys = [i + x + (i*x)**2 for i in range(kclusters)]\ncolors_array = cm.rainbow(np.linspace(0, 1, len(ys)))\nrainbow = [colors.rgb2hex(i) for i in colors_array]\n\n# add markers to the map\nmarkers_colors = []\nfor lat, lon, poi, cluster in zip(toronto_merged['Latitude'], toronto_merged['Longitude'], toronto_merged['Neighborhood'], toronto_merged['Cluster Labels']):\n    label = folium.Popup(str(poi) + ' Cluster ' + str(cluster), parse_html=True)\n    folium.CircleMarker(\n        [lat, lon],\n        radius=5,\n        popup=label,\n        color=rainbow[cluster-1],\n        fill=True,\n        fill_color=rainbow[cluster-1],\n        fill_opacity=0.7).add_to(map_clusters)\n       \nmap_clusters"
        }, 
        {
            "source": "<i>End of Assignment</i>", 
            "cell_type": "markdown", 
            "metadata": {}
        }, 
        {
            "source": "<B>About Author:</B><hr>\n<B>Imtiyaz Alamshah, IT Project Manager (PMP)</B>", 
            "cell_type": "markdown", 
            "metadata": {}
        }, 
        {
            "execution_count": null, 
            "cell_type": "code", 
            "metadata": {}, 
            "outputs": [], 
            "source": ""
        }, 
        {
            "execution_count": null, 
            "cell_type": "code", 
            "metadata": {}, 
            "outputs": [], 
            "source": ""
        }
    ], 
    "metadata": {
        "kernelspec": {
            "display_name": "Python 3.6", 
            "name": "python3", 
            "language": "python"
        }, 
        "language_info": {
            "mimetype": "text/x-python", 
            "nbconvert_exporter": "python", 
            "version": "3.6.8", 
            "name": "python", 
            "file_extension": ".py", 
            "pygments_lexer": "ipython3", 
            "codemirror_mode": {
                "version": 3, 
                "name": "ipython"
            }
        }
    }, 
    "nbformat": 4
}